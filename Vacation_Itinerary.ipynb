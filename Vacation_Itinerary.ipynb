{
 "cells": [
  {
   "cell_type": "code",
   "execution_count": 1,
   "metadata": {},
   "outputs": [],
   "source": [
    "# Import the dependencies.\n",
    "import pandas as pd\n",
    "import gmaps\n",
    "import requests\n",
    "import gmaps.datasets\n",
    "from datetime import datetime\n",
    "# Import the API key.\n",
    "from config import g_key"
   ]
  },
  {
   "cell_type": "code",
   "execution_count": 2,
   "metadata": {},
   "outputs": [
    {
     "data": {
      "text/html": [
       "<div>\n",
       "<style scoped>\n",
       "    .dataframe tbody tr th:only-of-type {\n",
       "        vertical-align: middle;\n",
       "    }\n",
       "\n",
       "    .dataframe tbody tr th {\n",
       "        vertical-align: top;\n",
       "    }\n",
       "\n",
       "    .dataframe thead th {\n",
       "        text-align: right;\n",
       "    }\n",
       "</style>\n",
       "<table border=\"1\" class=\"dataframe\">\n",
       "  <thead>\n",
       "    <tr style=\"text-align: right;\">\n",
       "      <th></th>\n",
       "      <th>City_ID</th>\n",
       "      <th>City</th>\n",
       "      <th>Country</th>\n",
       "      <th>Max Temp</th>\n",
       "      <th>Lat</th>\n",
       "      <th>Lng</th>\n",
       "      <th>Current Description</th>\n",
       "      <th>Hotel Name</th>\n",
       "    </tr>\n",
       "  </thead>\n",
       "  <tbody>\n",
       "    <tr>\n",
       "      <th>0</th>\n",
       "      <td>0</td>\n",
       "      <td>Lebu</td>\n",
       "      <td>CL</td>\n",
       "      <td>49.96</td>\n",
       "      <td>-37.62</td>\n",
       "      <td>-73.65</td>\n",
       "      <td>clear sky</td>\n",
       "      <td>Hostal Las Lilas</td>\n",
       "    </tr>\n",
       "    <tr>\n",
       "      <th>1</th>\n",
       "      <td>1</td>\n",
       "      <td>Mahebourg</td>\n",
       "      <td>MU</td>\n",
       "      <td>82.99</td>\n",
       "      <td>-20.41</td>\n",
       "      <td>57.70</td>\n",
       "      <td>few clouds</td>\n",
       "      <td>Shandrani Beachcomber Resort &amp; Spa</td>\n",
       "    </tr>\n",
       "    <tr>\n",
       "      <th>2</th>\n",
       "      <td>2</td>\n",
       "      <td>East London</td>\n",
       "      <td>ZA</td>\n",
       "      <td>71.60</td>\n",
       "      <td>-33.02</td>\n",
       "      <td>27.91</td>\n",
       "      <td>overcast clouds</td>\n",
       "      <td>Tu Casa</td>\n",
       "    </tr>\n",
       "    <tr>\n",
       "      <th>3</th>\n",
       "      <td>5</td>\n",
       "      <td>Pingliang</td>\n",
       "      <td>CN</td>\n",
       "      <td>46.36</td>\n",
       "      <td>35.54</td>\n",
       "      <td>106.69</td>\n",
       "      <td>clear sky</td>\n",
       "      <td>Xinxiang Hostel</td>\n",
       "    </tr>\n",
       "    <tr>\n",
       "      <th>4</th>\n",
       "      <td>6</td>\n",
       "      <td>Atuona</td>\n",
       "      <td>PF</td>\n",
       "      <td>81.72</td>\n",
       "      <td>-9.80</td>\n",
       "      <td>-139.03</td>\n",
       "      <td>overcast clouds</td>\n",
       "      <td>Villa Enata</td>\n",
       "    </tr>\n",
       "  </tbody>\n",
       "</table>\n",
       "</div>"
      ],
      "text/plain": [
       "   City_ID         City Country  Max Temp    Lat     Lng Current Description  \\\n",
       "0        0         Lebu      CL     49.96 -37.62  -73.65           clear sky   \n",
       "1        1    Mahebourg      MU     82.99 -20.41   57.70          few clouds   \n",
       "2        2  East London      ZA     71.60 -33.02   27.91     overcast clouds   \n",
       "3        5    Pingliang      CN     46.36  35.54  106.69           clear sky   \n",
       "4        6       Atuona      PF     81.72  -9.80 -139.03     overcast clouds   \n",
       "\n",
       "                           Hotel Name  \n",
       "0                    Hostal Las Lilas  \n",
       "1  Shandrani Beachcomber Resort & Spa  \n",
       "2                             Tu Casa  \n",
       "3                     Xinxiang Hostel  \n",
       "4                         Villa Enata  "
      ]
     },
     "execution_count": 2,
     "metadata": {},
     "output_type": "execute_result"
    }
   ],
   "source": [
    "# Store the CSV you saved created in part one into a DataFrame.\n",
    "vaccity_data_df = pd.read_csv(\"weather_data/WeatherPy_vacation.csv\")\n",
    "vaccity_data_df.head()"
   ]
  },
  {
   "cell_type": "code",
   "execution_count": 3,
   "metadata": {},
   "outputs": [],
   "source": [
    "# Configure gmaps to use your Google API key.\n",
    "gmaps.configure(api_key=g_key)"
   ]
  },
  {
   "cell_type": "code",
   "execution_count": 4,
   "metadata": {},
   "outputs": [
    {
     "data": {
      "text/html": [
       "<div>\n",
       "<style scoped>\n",
       "    .dataframe tbody tr th:only-of-type {\n",
       "        vertical-align: middle;\n",
       "    }\n",
       "\n",
       "    .dataframe tbody tr th {\n",
       "        vertical-align: top;\n",
       "    }\n",
       "\n",
       "    .dataframe thead th {\n",
       "        text-align: right;\n",
       "    }\n",
       "</style>\n",
       "<table border=\"1\" class=\"dataframe\">\n",
       "  <thead>\n",
       "    <tr style=\"text-align: right;\">\n",
       "      <th></th>\n",
       "      <th>City_ID</th>\n",
       "      <th>City</th>\n",
       "      <th>Country</th>\n",
       "      <th>Max Temp</th>\n",
       "      <th>Lat</th>\n",
       "      <th>Lng</th>\n",
       "      <th>Current Description</th>\n",
       "      <th>Hotel Name</th>\n",
       "    </tr>\n",
       "  </thead>\n",
       "  <tbody>\n",
       "    <tr>\n",
       "      <th>6</th>\n",
       "      <td>11</td>\n",
       "      <td>Half Moon Bay</td>\n",
       "      <td>US</td>\n",
       "      <td>61.00</td>\n",
       "      <td>37.46</td>\n",
       "      <td>-122.43</td>\n",
       "      <td>broken clouds</td>\n",
       "      <td>The Ritz-Carlton, Half Moon Bay</td>\n",
       "    </tr>\n",
       "    <tr>\n",
       "      <th>10</th>\n",
       "      <td>16</td>\n",
       "      <td>Hilo</td>\n",
       "      <td>US</td>\n",
       "      <td>69.80</td>\n",
       "      <td>19.73</td>\n",
       "      <td>-155.09</td>\n",
       "      <td>light rain</td>\n",
       "      <td>Hilo Hawaiian Hotel</td>\n",
       "    </tr>\n",
       "    <tr>\n",
       "      <th>16</th>\n",
       "      <td>28</td>\n",
       "      <td>Fortuna</td>\n",
       "      <td>US</td>\n",
       "      <td>48.99</td>\n",
       "      <td>40.60</td>\n",
       "      <td>-124.16</td>\n",
       "      <td>overcast clouds</td>\n",
       "      <td>Super 8 By Wyndham Fortuna</td>\n",
       "    </tr>\n",
       "    <tr>\n",
       "      <th>20</th>\n",
       "      <td>32</td>\n",
       "      <td>Kapaa</td>\n",
       "      <td>US</td>\n",
       "      <td>73.40</td>\n",
       "      <td>22.08</td>\n",
       "      <td>-159.32</td>\n",
       "      <td>overcast clouds</td>\n",
       "      <td>Sheraton Kauai Resort at Coconut Beach</td>\n",
       "    </tr>\n",
       "    <tr>\n",
       "      <th>22</th>\n",
       "      <td>37</td>\n",
       "      <td>Brownwood</td>\n",
       "      <td>US</td>\n",
       "      <td>42.80</td>\n",
       "      <td>31.71</td>\n",
       "      <td>-98.99</td>\n",
       "      <td>clear sky</td>\n",
       "      <td>La Quinta Inn &amp; Suites by Wyndham Brownwood</td>\n",
       "    </tr>\n",
       "  </tbody>\n",
       "</table>\n",
       "</div>"
      ],
      "text/plain": [
       "    City_ID           City Country  Max Temp    Lat     Lng  \\\n",
       "6        11  Half Moon Bay      US     61.00  37.46 -122.43   \n",
       "10       16           Hilo      US     69.80  19.73 -155.09   \n",
       "16       28        Fortuna      US     48.99  40.60 -124.16   \n",
       "20       32          Kapaa      US     73.40  22.08 -159.32   \n",
       "22       37      Brownwood      US     42.80  31.71  -98.99   \n",
       "\n",
       "   Current Description                                   Hotel Name  \n",
       "6        broken clouds              The Ritz-Carlton, Half Moon Bay  \n",
       "10          light rain                          Hilo Hawaiian Hotel  \n",
       "16     overcast clouds                   Super 8 By Wyndham Fortuna  \n",
       "20     overcast clouds       Sheraton Kauai Resort at Coconut Beach  \n",
       "22           clear sky  La Quinta Inn & Suites by Wyndham Brownwood  "
      ]
     },
     "execution_count": 4,
     "metadata": {},
     "output_type": "execute_result"
    }
   ],
   "source": [
    "# Creating the dataframe based on one country\n",
    "preferred_df=pd.DataFrame(vaccity_data_df.loc[vaccity_data_df.loc[:,\"Country\"] == \"US\", :])\n",
    "preferred_df.head()"
   ]
  },
  {
   "cell_type": "code",
   "execution_count": 5,
   "metadata": {},
   "outputs": [
    {
     "data": {
      "text/html": [
       "<div>\n",
       "<style scoped>\n",
       "    .dataframe tbody tr th:only-of-type {\n",
       "        vertical-align: middle;\n",
       "    }\n",
       "\n",
       "    .dataframe tbody tr th {\n",
       "        vertical-align: top;\n",
       "    }\n",
       "\n",
       "    .dataframe thead th {\n",
       "        text-align: right;\n",
       "    }\n",
       "</style>\n",
       "<table border=\"1\" class=\"dataframe\">\n",
       "  <thead>\n",
       "    <tr style=\"text-align: right;\">\n",
       "      <th></th>\n",
       "      <th>City_ID</th>\n",
       "      <th>City</th>\n",
       "      <th>Country</th>\n",
       "      <th>Max Temp</th>\n",
       "      <th>Lat</th>\n",
       "      <th>Lng</th>\n",
       "      <th>Current Description</th>\n",
       "      <th>Hotel Name</th>\n",
       "    </tr>\n",
       "  </thead>\n",
       "  <tbody>\n",
       "    <tr>\n",
       "      <th>215</th>\n",
       "      <td>403</td>\n",
       "      <td>Brandon</td>\n",
       "      <td>US</td>\n",
       "      <td>46.99</td>\n",
       "      <td>27.94</td>\n",
       "      <td>-82.29</td>\n",
       "      <td>clear sky</td>\n",
       "      <td>Embassy Suites by Hilton Tampa Brandon</td>\n",
       "    </tr>\n",
       "    <tr>\n",
       "      <th>220</th>\n",
       "      <td>410</td>\n",
       "      <td>Portland</td>\n",
       "      <td>US</td>\n",
       "      <td>45.00</td>\n",
       "      <td>45.52</td>\n",
       "      <td>-122.68</td>\n",
       "      <td>clear sky</td>\n",
       "      <td>Portland Marriott City Center</td>\n",
       "    </tr>\n",
       "    <tr>\n",
       "      <th>249</th>\n",
       "      <td>462</td>\n",
       "      <td>Houma</td>\n",
       "      <td>US</td>\n",
       "      <td>46.40</td>\n",
       "      <td>29.60</td>\n",
       "      <td>-90.72</td>\n",
       "      <td>clear sky</td>\n",
       "      <td>Courtyard by Marriott Houma</td>\n",
       "    </tr>\n",
       "    <tr>\n",
       "      <th>294</th>\n",
       "      <td>551</td>\n",
       "      <td>Dallas</td>\n",
       "      <td>US</td>\n",
       "      <td>44.60</td>\n",
       "      <td>32.77</td>\n",
       "      <td>-96.78</td>\n",
       "      <td>broken clouds</td>\n",
       "      <td>Hotel Indigo Dallas Downtown</td>\n",
       "    </tr>\n",
       "  </tbody>\n",
       "</table>\n",
       "</div>"
      ],
      "text/plain": [
       "     City_ID      City Country  Max Temp    Lat     Lng Current Description  \\\n",
       "215      403   Brandon      US     46.99  27.94  -82.29           clear sky   \n",
       "220      410  Portland      US     45.00  45.52 -122.68           clear sky   \n",
       "249      462     Houma      US     46.40  29.60  -90.72           clear sky   \n",
       "294      551    Dallas      US     44.60  32.77  -96.78       broken clouds   \n",
       "\n",
       "                                 Hotel Name  \n",
       "215  Embassy Suites by Hilton Tampa Brandon  \n",
       "220           Portland Marriott City Center  \n",
       "249             Courtyard by Marriott Houma  \n",
       "294            Hotel Indigo Dallas Downtown  "
      ]
     },
     "execution_count": 5,
     "metadata": {},
     "output_type": "execute_result"
    }
   ],
   "source": [
    "# Get the four city data for four cities\n",
    "preferred_city_df = preferred_df.tail(4)\n",
    "preferred_city_df"
   ]
  },
  {
   "cell_type": "code",
   "execution_count": 6,
   "metadata": {},
   "outputs": [
    {
     "data": {
      "text/html": [
       "<div>\n",
       "<style scoped>\n",
       "    .dataframe tbody tr th:only-of-type {\n",
       "        vertical-align: middle;\n",
       "    }\n",
       "\n",
       "    .dataframe tbody tr th {\n",
       "        vertical-align: top;\n",
       "    }\n",
       "\n",
       "    .dataframe thead th {\n",
       "        text-align: right;\n",
       "    }\n",
       "</style>\n",
       "<table border=\"1\" class=\"dataframe\">\n",
       "  <thead>\n",
       "    <tr style=\"text-align: right;\">\n",
       "      <th></th>\n",
       "      <th>index</th>\n",
       "      <th>City_ID</th>\n",
       "      <th>City</th>\n",
       "      <th>Country</th>\n",
       "      <th>Max Temp</th>\n",
       "      <th>Lat</th>\n",
       "      <th>Lng</th>\n",
       "      <th>Current Description</th>\n",
       "      <th>Hotel Name</th>\n",
       "    </tr>\n",
       "  </thead>\n",
       "  <tbody>\n",
       "    <tr>\n",
       "      <th>0</th>\n",
       "      <td>215</td>\n",
       "      <td>403</td>\n",
       "      <td>Brandon</td>\n",
       "      <td>US</td>\n",
       "      <td>46.99</td>\n",
       "      <td>27.94</td>\n",
       "      <td>-82.29</td>\n",
       "      <td>clear sky</td>\n",
       "      <td>Embassy Suites by Hilton Tampa Brandon</td>\n",
       "    </tr>\n",
       "    <tr>\n",
       "      <th>1</th>\n",
       "      <td>220</td>\n",
       "      <td>410</td>\n",
       "      <td>Portland</td>\n",
       "      <td>US</td>\n",
       "      <td>45.00</td>\n",
       "      <td>45.52</td>\n",
       "      <td>-122.68</td>\n",
       "      <td>clear sky</td>\n",
       "      <td>Portland Marriott City Center</td>\n",
       "    </tr>\n",
       "    <tr>\n",
       "      <th>2</th>\n",
       "      <td>249</td>\n",
       "      <td>462</td>\n",
       "      <td>Houma</td>\n",
       "      <td>US</td>\n",
       "      <td>46.40</td>\n",
       "      <td>29.60</td>\n",
       "      <td>-90.72</td>\n",
       "      <td>clear sky</td>\n",
       "      <td>Courtyard by Marriott Houma</td>\n",
       "    </tr>\n",
       "    <tr>\n",
       "      <th>3</th>\n",
       "      <td>294</td>\n",
       "      <td>551</td>\n",
       "      <td>Dallas</td>\n",
       "      <td>US</td>\n",
       "      <td>44.60</td>\n",
       "      <td>32.77</td>\n",
       "      <td>-96.78</td>\n",
       "      <td>broken clouds</td>\n",
       "      <td>Hotel Indigo Dallas Downtown</td>\n",
       "    </tr>\n",
       "  </tbody>\n",
       "</table>\n",
       "</div>"
      ],
      "text/plain": [
       "   index  City_ID      City Country  Max Temp    Lat     Lng  \\\n",
       "0    215      403   Brandon      US     46.99  27.94  -82.29   \n",
       "1    220      410  Portland      US     45.00  45.52 -122.68   \n",
       "2    249      462     Houma      US     46.40  29.60  -90.72   \n",
       "3    294      551    Dallas      US     44.60  32.77  -96.78   \n",
       "\n",
       "  Current Description                              Hotel Name  \n",
       "0           clear sky  Embassy Suites by Hilton Tampa Brandon  \n",
       "1           clear sky           Portland Marriott City Center  \n",
       "2           clear sky             Courtyard by Marriott Houma  \n",
       "3       broken clouds            Hotel Indigo Dallas Downtown  "
      ]
     },
     "execution_count": 6,
     "metadata": {},
     "output_type": "execute_result"
    }
   ],
   "source": [
    "# Get the four city data for four cities in a new dataframe\n",
    "preferred_city_df = preferred_city_df.reset_index()\n",
    "preferred_city_df"
   ]
  },
  {
   "cell_type": "code",
   "execution_count": 8,
   "metadata": {},
   "outputs": [
    {
     "data": {
      "text/html": [
       "<div>\n",
       "<style scoped>\n",
       "    .dataframe tbody tr th:only-of-type {\n",
       "        vertical-align: middle;\n",
       "    }\n",
       "\n",
       "    .dataframe tbody tr th {\n",
       "        vertical-align: top;\n",
       "    }\n",
       "\n",
       "    .dataframe thead th {\n",
       "        text-align: right;\n",
       "    }\n",
       "</style>\n",
       "<table border=\"1\" class=\"dataframe\">\n",
       "  <thead>\n",
       "    <tr style=\"text-align: right;\">\n",
       "      <th></th>\n",
       "      <th>City_ID</th>\n",
       "      <th>City</th>\n",
       "      <th>Country</th>\n",
       "      <th>Max Temp</th>\n",
       "      <th>Lat</th>\n",
       "      <th>Lng</th>\n",
       "      <th>Current Description</th>\n",
       "      <th>Hotel Name</th>\n",
       "    </tr>\n",
       "  </thead>\n",
       "  <tbody>\n",
       "    <tr>\n",
       "      <th>0</th>\n",
       "      <td>403</td>\n",
       "      <td>Brandon</td>\n",
       "      <td>US</td>\n",
       "      <td>46.99</td>\n",
       "      <td>27.94</td>\n",
       "      <td>-82.29</td>\n",
       "      <td>clear sky</td>\n",
       "      <td>Embassy Suites by Hilton Tampa Brandon</td>\n",
       "    </tr>\n",
       "    <tr>\n",
       "      <th>1</th>\n",
       "      <td>410</td>\n",
       "      <td>Portland</td>\n",
       "      <td>US</td>\n",
       "      <td>45.00</td>\n",
       "      <td>45.52</td>\n",
       "      <td>-122.68</td>\n",
       "      <td>clear sky</td>\n",
       "      <td>Portland Marriott City Center</td>\n",
       "    </tr>\n",
       "    <tr>\n",
       "      <th>2</th>\n",
       "      <td>462</td>\n",
       "      <td>Houma</td>\n",
       "      <td>US</td>\n",
       "      <td>46.40</td>\n",
       "      <td>29.60</td>\n",
       "      <td>-90.72</td>\n",
       "      <td>clear sky</td>\n",
       "      <td>Courtyard by Marriott Houma</td>\n",
       "    </tr>\n",
       "    <tr>\n",
       "      <th>3</th>\n",
       "      <td>551</td>\n",
       "      <td>Dallas</td>\n",
       "      <td>US</td>\n",
       "      <td>44.60</td>\n",
       "      <td>32.77</td>\n",
       "      <td>-96.78</td>\n",
       "      <td>broken clouds</td>\n",
       "      <td>Hotel Indigo Dallas Downtown</td>\n",
       "    </tr>\n",
       "  </tbody>\n",
       "</table>\n",
       "</div>"
      ],
      "text/plain": [
       "   City_ID      City Country  Max Temp    Lat     Lng Current Description  \\\n",
       "0      403   Brandon      US     46.99  27.94  -82.29           clear sky   \n",
       "1      410  Portland      US     45.00  45.52 -122.68           clear sky   \n",
       "2      462     Houma      US     46.40  29.60  -90.72           clear sky   \n",
       "3      551    Dallas      US     44.60  32.77  -96.78       broken clouds   \n",
       "\n",
       "                               Hotel Name  \n",
       "0  Embassy Suites by Hilton Tampa Brandon  \n",
       "1           Portland Marriott City Center  \n",
       "2             Courtyard by Marriott Houma  \n",
       "3            Hotel Indigo Dallas Downtown  "
      ]
     },
     "execution_count": 8,
     "metadata": {},
     "output_type": "execute_result"
    }
   ],
   "source": [
    "# pandas drop a column with drop function\n",
    "preferred_city_df = preferred_city_df.drop(['index'], axis=1)\n",
    "preferred_city_df"
   ]
  },
  {
   "cell_type": "code",
   "execution_count": 9,
   "metadata": {},
   "outputs": [
    {
     "data": {
      "text/html": [
       "<div>\n",
       "<style scoped>\n",
       "    .dataframe tbody tr th:only-of-type {\n",
       "        vertical-align: middle;\n",
       "    }\n",
       "\n",
       "    .dataframe tbody tr th {\n",
       "        vertical-align: top;\n",
       "    }\n",
       "\n",
       "    .dataframe thead th {\n",
       "        text-align: right;\n",
       "    }\n",
       "</style>\n",
       "<table border=\"1\" class=\"dataframe\">\n",
       "  <thead>\n",
       "    <tr style=\"text-align: right;\">\n",
       "      <th></th>\n",
       "      <th>Lat</th>\n",
       "      <th>Lng</th>\n",
       "    </tr>\n",
       "  </thead>\n",
       "  <tbody>\n",
       "    <tr>\n",
       "      <th>0</th>\n",
       "      <td>27.94</td>\n",
       "      <td>-82.29</td>\n",
       "    </tr>\n",
       "    <tr>\n",
       "      <th>1</th>\n",
       "      <td>45.52</td>\n",
       "      <td>-122.68</td>\n",
       "    </tr>\n",
       "    <tr>\n",
       "      <th>2</th>\n",
       "      <td>29.60</td>\n",
       "      <td>-90.72</td>\n",
       "    </tr>\n",
       "    <tr>\n",
       "      <th>3</th>\n",
       "      <td>32.77</td>\n",
       "      <td>-96.78</td>\n",
       "    </tr>\n",
       "  </tbody>\n",
       "</table>\n",
       "</div>"
      ],
      "text/plain": [
       "     Lat     Lng\n",
       "0  27.94  -82.29\n",
       "1  45.52 -122.68\n",
       "2  29.60  -90.72\n",
       "3  32.77  -96.78"
      ]
     },
     "execution_count": 9,
     "metadata": {},
     "output_type": "execute_result"
    }
   ],
   "source": [
    "# Create a tuple of the longitude and latidue\n",
    "locations = preferred_city_df[[\"Lat\", \"Lng\"]]\n",
    "locations"
   ]
  },
  {
   "cell_type": "code",
   "execution_count": 10,
   "metadata": {},
   "outputs": [
    {
     "data": {
      "text/html": [
       "<div>\n",
       "<style scoped>\n",
       "    .dataframe tbody tr th:only-of-type {\n",
       "        vertical-align: middle;\n",
       "    }\n",
       "\n",
       "    .dataframe tbody tr th {\n",
       "        vertical-align: top;\n",
       "    }\n",
       "\n",
       "    .dataframe thead th {\n",
       "        text-align: right;\n",
       "    }\n",
       "</style>\n",
       "<table border=\"1\" class=\"dataframe\">\n",
       "  <thead>\n",
       "    <tr style=\"text-align: right;\">\n",
       "      <th></th>\n",
       "      <th>City_ID</th>\n",
       "      <th>City</th>\n",
       "      <th>Country</th>\n",
       "      <th>Max Temp</th>\n",
       "      <th>Lat</th>\n",
       "      <th>Lng</th>\n",
       "      <th>Current Description</th>\n",
       "      <th>Hotel Name</th>\n",
       "    </tr>\n",
       "  </thead>\n",
       "  <tbody>\n",
       "    <tr>\n",
       "      <th>215</th>\n",
       "      <td>403</td>\n",
       "      <td>Brandon</td>\n",
       "      <td>US</td>\n",
       "      <td>46.99</td>\n",
       "      <td>27.94</td>\n",
       "      <td>-82.29</td>\n",
       "      <td>clear sky</td>\n",
       "      <td>Embassy Suites by Hilton Tampa Brandon</td>\n",
       "    </tr>\n",
       "  </tbody>\n",
       "</table>\n",
       "</div>"
      ],
      "text/plain": [
       "     City_ID     City Country  Max Temp    Lat    Lng Current Description  \\\n",
       "215      403  Brandon      US     46.99  27.94 -82.29           clear sky   \n",
       "\n",
       "                                 Hotel Name  \n",
       "215  Embassy Suites by Hilton Tampa Brandon  "
      ]
     },
     "execution_count": 10,
     "metadata": {},
     "output_type": "execute_result"
    }
   ],
   "source": [
    "#Create a dataframe for first city\n",
    "#preferred_cityone_df = preferred_df.loc[preferred_df.loc[:,\"City\"] == \"Astoria\",:]\n",
    "preferred_cityone_df = preferred_df.loc[preferred_df.loc[:,\"City\"] == \"Brandon\",:]\n",
    "preferred_cityone_df.head()"
   ]
  },
  {
   "cell_type": "code",
   "execution_count": 11,
   "metadata": {},
   "outputs": [
    {
     "data": {
      "text/plain": [
       "(27.94, -82.29)"
      ]
     },
     "execution_count": 11,
     "metadata": {},
     "output_type": "execute_result"
    }
   ],
   "source": [
    "#Get the coordinates for the first city and set it as the origin value for the map.\n",
    "origin_location = preferred_cityone_df[\"Lat\"].values[0],preferred_cityone_df[\"Lng\"].values[0]\n",
    "origin_location"
   ]
  },
  {
   "cell_type": "code",
   "execution_count": 12,
   "metadata": {},
   "outputs": [
    {
     "data": {
      "text/html": [
       "<div>\n",
       "<style scoped>\n",
       "    .dataframe tbody tr th:only-of-type {\n",
       "        vertical-align: middle;\n",
       "    }\n",
       "\n",
       "    .dataframe tbody tr th {\n",
       "        vertical-align: top;\n",
       "    }\n",
       "\n",
       "    .dataframe thead th {\n",
       "        text-align: right;\n",
       "    }\n",
       "</style>\n",
       "<table border=\"1\" class=\"dataframe\">\n",
       "  <thead>\n",
       "    <tr style=\"text-align: right;\">\n",
       "      <th></th>\n",
       "      <th>City_ID</th>\n",
       "      <th>City</th>\n",
       "      <th>Country</th>\n",
       "      <th>Max Temp</th>\n",
       "      <th>Lat</th>\n",
       "      <th>Lng</th>\n",
       "      <th>Current Description</th>\n",
       "      <th>Hotel Name</th>\n",
       "    </tr>\n",
       "  </thead>\n",
       "  <tbody>\n",
       "    <tr>\n",
       "      <th>220</th>\n",
       "      <td>410</td>\n",
       "      <td>Portland</td>\n",
       "      <td>US</td>\n",
       "      <td>45.0</td>\n",
       "      <td>45.52</td>\n",
       "      <td>-122.68</td>\n",
       "      <td>clear sky</td>\n",
       "      <td>Portland Marriott City Center</td>\n",
       "    </tr>\n",
       "  </tbody>\n",
       "</table>\n",
       "</div>"
      ],
      "text/plain": [
       "     City_ID      City Country  Max Temp    Lat     Lng Current Description  \\\n",
       "220      410  Portland      US      45.0  45.52 -122.68           clear sky   \n",
       "\n",
       "                        Hotel Name  \n",
       "220  Portland Marriott City Center  "
      ]
     },
     "execution_count": 12,
     "metadata": {},
     "output_type": "execute_result"
    }
   ],
   "source": [
    "#Create a dataframe for second city\n",
    "#preferred_citytwo_df = preferred_df.loc[preferred_df.loc[:,\"City\"] == \"Black Diamond\",:]\n",
    "preferred_citytwo_df = preferred_df.loc[preferred_df.loc[:,\"City\"] == \"Portland\",:]\n",
    "preferred_citytwo_df.head(10)"
   ]
  },
  {
   "cell_type": "code",
   "execution_count": 13,
   "metadata": {},
   "outputs": [
    {
     "data": {
      "text/plain": [
       "(45.52, -122.68)"
      ]
     },
     "execution_count": 13,
     "metadata": {},
     "output_type": "execute_result"
    }
   ],
   "source": [
    "#Get the coordinates for the second city and set it as the via point1 value for the map.\n",
    "via_point_one = preferred_citytwo_df[\"Lat\"].values[0],preferred_citytwo_df[\"Lng\"].values[0]\n",
    "via_point_one"
   ]
  },
  {
   "cell_type": "code",
   "execution_count": 14,
   "metadata": {},
   "outputs": [
    {
     "data": {
      "text/html": [
       "<div>\n",
       "<style scoped>\n",
       "    .dataframe tbody tr th:only-of-type {\n",
       "        vertical-align: middle;\n",
       "    }\n",
       "\n",
       "    .dataframe tbody tr th {\n",
       "        vertical-align: top;\n",
       "    }\n",
       "\n",
       "    .dataframe thead th {\n",
       "        text-align: right;\n",
       "    }\n",
       "</style>\n",
       "<table border=\"1\" class=\"dataframe\">\n",
       "  <thead>\n",
       "    <tr style=\"text-align: right;\">\n",
       "      <th></th>\n",
       "      <th>City_ID</th>\n",
       "      <th>City</th>\n",
       "      <th>Country</th>\n",
       "      <th>Max Temp</th>\n",
       "      <th>Lat</th>\n",
       "      <th>Lng</th>\n",
       "      <th>Current Description</th>\n",
       "      <th>Hotel Name</th>\n",
       "    </tr>\n",
       "  </thead>\n",
       "  <tbody>\n",
       "    <tr>\n",
       "      <th>249</th>\n",
       "      <td>462</td>\n",
       "      <td>Houma</td>\n",
       "      <td>US</td>\n",
       "      <td>46.4</td>\n",
       "      <td>29.6</td>\n",
       "      <td>-90.72</td>\n",
       "      <td>clear sky</td>\n",
       "      <td>Courtyard by Marriott Houma</td>\n",
       "    </tr>\n",
       "  </tbody>\n",
       "</table>\n",
       "</div>"
      ],
      "text/plain": [
       "     City_ID   City Country  Max Temp   Lat    Lng Current Description  \\\n",
       "249      462  Houma      US      46.4  29.6 -90.72           clear sky   \n",
       "\n",
       "                      Hotel Name  \n",
       "249  Courtyard by Marriott Houma  "
      ]
     },
     "execution_count": 14,
     "metadata": {},
     "output_type": "execute_result"
    }
   ],
   "source": [
    "#Create a dataframe for third city\n",
    "#preferred_citythree_df = preferred_df.loc[preferred_df.loc[:,\"City\"] == \"Laguna\",:]\n",
    "preferred_citythree_df = preferred_df.loc[preferred_df.loc[:,\"City\"] == \"Houma\",:]\n",
    "preferred_citythree_df.head(10)"
   ]
  },
  {
   "cell_type": "code",
   "execution_count": 15,
   "metadata": {},
   "outputs": [
    {
     "data": {
      "text/plain": [
       "(29.6, -90.72)"
      ]
     },
     "execution_count": 15,
     "metadata": {},
     "output_type": "execute_result"
    }
   ],
   "source": [
    "#Get the coordinates for the second city and set it as the via point1 value for the map.\n",
    "via_point_two = preferred_citythree_df[\"Lat\"].values[0],preferred_citythree_df[\"Lng\"].values[0]\n",
    "via_point_two"
   ]
  },
  {
   "cell_type": "code",
   "execution_count": 16,
   "metadata": {},
   "outputs": [
    {
     "data": {
      "text/html": [
       "<div>\n",
       "<style scoped>\n",
       "    .dataframe tbody tr th:only-of-type {\n",
       "        vertical-align: middle;\n",
       "    }\n",
       "\n",
       "    .dataframe tbody tr th {\n",
       "        vertical-align: top;\n",
       "    }\n",
       "\n",
       "    .dataframe thead th {\n",
       "        text-align: right;\n",
       "    }\n",
       "</style>\n",
       "<table border=\"1\" class=\"dataframe\">\n",
       "  <thead>\n",
       "    <tr style=\"text-align: right;\">\n",
       "      <th></th>\n",
       "      <th>City_ID</th>\n",
       "      <th>City</th>\n",
       "      <th>Country</th>\n",
       "      <th>Max Temp</th>\n",
       "      <th>Lat</th>\n",
       "      <th>Lng</th>\n",
       "      <th>Current Description</th>\n",
       "      <th>Hotel Name</th>\n",
       "    </tr>\n",
       "  </thead>\n",
       "  <tbody>\n",
       "    <tr>\n",
       "      <th>294</th>\n",
       "      <td>551</td>\n",
       "      <td>Dallas</td>\n",
       "      <td>US</td>\n",
       "      <td>44.6</td>\n",
       "      <td>32.77</td>\n",
       "      <td>-96.78</td>\n",
       "      <td>broken clouds</td>\n",
       "      <td>Hotel Indigo Dallas Downtown</td>\n",
       "    </tr>\n",
       "  </tbody>\n",
       "</table>\n",
       "</div>"
      ],
      "text/plain": [
       "     City_ID    City Country  Max Temp    Lat    Lng Current Description  \\\n",
       "294      551  Dallas      US      44.6  32.77 -96.78       broken clouds   \n",
       "\n",
       "                       Hotel Name  \n",
       "294  Hotel Indigo Dallas Downtown  "
      ]
     },
     "execution_count": 16,
     "metadata": {},
     "output_type": "execute_result"
    }
   ],
   "source": [
    "#Create a dataframe for fourth city\n",
    "#preferred_cityfour_df = preferred_df.loc[preferred_df.loc[:,\"City\"] == \"Pacific Grove\",:]\n",
    "preferred_cityfour_df = preferred_df.loc[preferred_df.loc[:,\"City\"] == \"Dallas\",:]\n",
    "preferred_cityfour_df.head(10)"
   ]
  },
  {
   "cell_type": "code",
   "execution_count": 17,
   "metadata": {},
   "outputs": [
    {
     "data": {
      "text/plain": [
       "(32.77, -96.78)"
      ]
     },
     "execution_count": 17,
     "metadata": {},
     "output_type": "execute_result"
    }
   ],
   "source": [
    "#Get the coordinates for the fourth city and set it as the destination value for the map.\n",
    "destination_location = preferred_cityfour_df[\"Lat\"].values[0],preferred_cityfour_df[\"Lng\"].values[0]\n",
    "destination_location"
   ]
  },
  {
   "cell_type": "code",
   "execution_count": 18,
   "metadata": {},
   "outputs": [
    {
     "data": {
      "text/plain": [
       "[(45.52, -122.68), (29.6, -90.72)]"
      ]
     },
     "execution_count": 18,
     "metadata": {},
     "output_type": "execute_result"
    }
   ],
   "source": [
    "#Set the waypoints for the two via point\n",
    "way_points = [via_point_one, via_point_two]\n",
    "way_points"
   ]
  },
  {
   "cell_type": "code",
   "execution_count": 19,
   "metadata": {},
   "outputs": [
    {
     "data": {
      "application/vnd.jupyter.widget-view+json": {
       "model_id": "e1f60a44aed347f3b3f899c6ebbdff12",
       "version_major": 2,
       "version_minor": 0
      },
      "text/plain": [
       "Figure(layout=FigureLayout(height='420px'))"
      ]
     },
     "metadata": {},
     "output_type": "display_data"
    }
   ],
   "source": [
    "#Create the travel map for the four cities.\n",
    "import gmaps\n",
    "\n",
    "#now = datetime.now()\n",
    "#configure api\n",
    "gmaps.configure(api_key=g_key)\n",
    "\n",
    "# Latitude-longitude pairs\n",
    "#Create the map\n",
    "fig = gmaps.figure()\n",
    "#Create the layer\n",
    "layer = gmaps.directions_layer(origin_location, destination_location, travel_mode='DRIVING', waypoints = way_points)\n",
    "#Add the layer\n",
    "fig.add_layer(layer)\n",
    "fig"
   ]
  },
  {
   "cell_type": "code",
   "execution_count": 20,
   "metadata": {},
   "outputs": [],
   "source": [
    "info_box_template = \"\"\"\n",
    "<dl>\n",
    "<dt>Hotel Name</dt><dd>{Hotel Name}</dd>\n",
    "<dt>City</dt><dd>{City}</dd>\n",
    "<dt>Country</dt><dd>{Country}</dd>\n",
    "<dt>Current Weather</dt><dd>{Current Description} and {Max Temp} °F </dd>\n",
    "</dl>\n",
    "\"\"\"\n",
    "# Store the DataFrame Row.\n",
    "hotel_info = [info_box_template.format(**row) for index, row in preferred_city_df.iterrows()]"
   ]
  },
  {
   "cell_type": "code",
   "execution_count": 21,
   "metadata": {},
   "outputs": [
    {
     "data": {
      "application/vnd.jupyter.widget-view+json": {
       "model_id": "4f1592f791044f3891bbb6e04ffa8f3f",
       "version_major": 2,
       "version_minor": 0
      },
      "text/plain": [
       "Figure(layout=FigureLayout(height='420px'))"
      ]
     },
     "metadata": {},
     "output_type": "display_data"
    }
   ],
   "source": [
    "# Add a heatmap of temperature for the vacation spots and a pop-up marker for each city.\n",
    "locations = preferred_city_df[[\"Lat\", \"Lng\"]]\n",
    "max_temp = preferred_city_df[\"Max Temp\"]\n",
    "fig = gmaps.figure(center=(30.0, 31.0), zoom_level=1.5)\n",
    "#heat_layer = gmaps.heatmap_layer(locations, weights=max_temp,dissipating=False,\n",
    "#             max_intensity=300, point_radius=4)\n",
    "heat_layer = gmaps.symbol_layer(locations, fill_color='red', stroke_color='red')\n",
    "marker_layer = gmaps.marker_layer(locations, info_box_content=hotel_info)\n",
    "fig.add_layer(heat_layer)\n",
    "fig.add_layer(marker_layer)\n",
    "\n",
    "# Call the figure to plot the data.\n",
    "fig"
   ]
  }
 ],
 "metadata": {
  "kernelspec": {
   "display_name": "PythonData",
   "language": "python",
   "name": "pythondata"
  },
  "language_info": {
   "codemirror_mode": {
    "name": "ipython",
    "version": 3
   },
   "file_extension": ".py",
   "mimetype": "text/x-python",
   "name": "python",
   "nbconvert_exporter": "python",
   "pygments_lexer": "ipython3",
   "version": "3.6.10"
  }
 },
 "nbformat": 4,
 "nbformat_minor": 4
}
